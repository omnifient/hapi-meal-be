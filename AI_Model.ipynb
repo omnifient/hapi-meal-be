{
  "nbformat": 4,
  "nbformat_minor": 0,
  "metadata": {
    "colab": {
      "provenance": [],
      "authorship_tag": "ABX9TyOA0XEt7Wj+opslq9GljGFD"
    },
    "kernelspec": {
      "name": "python3",
      "display_name": "Python 3"
    },
    "language_info": {
      "name": "python"
    }
  },
  "cells": [
    {
      "cell_type": "code",
      "execution_count": 1,
      "metadata": {
        "colab": {
          "base_uri": "https://localhost:8080/"
        },
        "id": "UROqo5WTv5EJ",
        "outputId": "e5b33837-ea13-4ba6-877c-b19a15d5fb46"
      },
      "outputs": [
        {
          "output_type": "stream",
          "name": "stdout",
          "text": [
            "hellow world\n"
          ]
        }
      ],
      "source": [
        "print(\"hellow world\")\n"
      ]
    },
    {
      "cell_type": "code",
      "source": [
        "print(\"gfhs\")\n"
      ],
      "metadata": {
        "colab": {
          "base_uri": "https://localhost:8080/"
        },
        "id": "Mw2hBa7c7MTU",
        "outputId": "2db7d59f-0eb0-4859-9931-c65c45f380a9"
      },
      "execution_count": 2,
      "outputs": [
        {
          "output_type": "stream",
          "name": "stdout",
          "text": [
            "gfhs\n"
          ]
        }
      ]
    },
    {
      "cell_type": "code",
      "source": [
        "import torch"
      ],
      "metadata": {
        "id": "H2TAgLFzEv8w"
      },
      "execution_count": null,
      "outputs": []
    },
    {
      "cell_type": "code",
      "source": [
        "tensor = torch.tensor([],[]"
      ],
      "metadata": {
        "id": "ixjsi_NeE2PE"
      },
      "execution_count": null,
      "outputs": []
    }
  ]
}